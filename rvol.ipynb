{
 "cells": [
  {
   "cell_type": "markdown",
   "metadata": {},
   "source": [
    "1. Vol\n",
    "2. AVol\n",
    "3. RVol"
   ]
  },
  {
   "cell_type": "code",
   "execution_count": 4,
   "metadata": {},
   "outputs": [],
   "source": [
    "import os\n",
    "import polars as pl\n",
    "from tqdm import tqdm\n",
    "from datetime import datetime"
   ]
  },
  {
   "cell_type": "code",
   "execution_count": 6,
   "metadata": {},
   "outputs": [
    {
     "name": "stderr",
     "output_type": "stream",
     "text": [
      "100%|██████████| 1925/1925 [03:49<00:00,  8.37it/s]\n"
     ]
    }
   ],
   "source": [
    "for code in tqdm(os.listdir(f'cn_data/')):\n",
    "    dates = []\n",
    "    vols = []\n",
    "\n",
    "    for fname in os.listdir(f'cn_data/{code}'):\n",
    "        date_str = fname.split('.')[0]\n",
    "\n",
    "        df = pl.read_csv(f'cn_data/{code}/{fname}')\n",
    "\n",
    "        rs = df.filter((pl.col('time_str') == '09:25') | (pl.col('time_str') == '09:30') | (pl.col('time_str') == '09:31') | (pl.col('time_str') == '09:32') | (pl.col('time_str') == '09:33') | (pl.col('time_str') == '09:34') | (pl.col('time_str') == '09:35'))\n",
    "\n",
    "        vol = rs['vol'].sum()\n",
    "        \n",
    "        dates.append(date_str)\n",
    "        vols.append(vol)\n",
    "\n",
    "    df = pl.DataFrame({\n",
    "        'date_str': dates,\n",
    "        'vol': vols\n",
    "    }).sort('date_str')\n",
    "\n",
    "    avol_30 = df['vol'].shift(1).rolling_mean(30).round(3)\n",
    "    df['avol_30'] = avol_30.to_list()\n",
    "    df['rvol_30'] = (df['vol'] / df['avol_30']).round(3)\n",
    "\n",
    "    #\n",
    "    df['avol_30'] = df['avol_30'].fill_nan(0.0).fill_null(0.0)\n",
    "    df['rvol_30'] = df['rvol_30'].fill_nan(0.0).fill_null(0.0)\n",
    "\n",
    "    #\n",
    "    df['vol'] = df['vol'].apply(lambda x: int(x))\n",
    "\n",
    "    #\n",
    "    df['freq'] = ['1d'] * len(df)\n",
    "\n",
    "    #\n",
    "    dts = []\n",
    "    for tstr in df['date_str']:\n",
    "        dts.append(datetime.strptime(tstr, '%Y%m%d'))\n",
    "    df['time'] = dts\n",
    "    \n",
    "    df.to_csv(f'cn_data_rvol/data/{code}.csv')\n",
    "    df.to_parquet(f'cn_data_rvol/data_parquet/{code}.parquet')"
   ]
  }
 ],
 "metadata": {
  "kernelspec": {
   "display_name": "Python 3",
   "language": "python",
   "name": "python3"
  },
  "language_info": {
   "codemirror_mode": {
    "name": "ipython",
    "version": 3
   },
   "file_extension": ".py",
   "mimetype": "text/x-python",
   "name": "python",
   "nbconvert_exporter": "python",
   "pygments_lexer": "ipython3",
   "version": "3.8.4 (default, Jan 10 2023, 13:17:10) \n[GCC 7.5.0]"
  },
  "orig_nbformat": 4,
  "vscode": {
   "interpreter": {
    "hash": "82328c1ac27e33c7f9ad051b9117ee9a5989011e2ef55b48106b5a4895113660"
   }
  }
 },
 "nbformat": 4,
 "nbformat_minor": 2
}
