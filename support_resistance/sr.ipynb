{
 "cells": [
  {
   "cell_type": "markdown",
   "metadata": {},
   "source": [
    "- Spreading\n",
    "- ATR\n",
    "- 集中度\n",
    "    - 百分比\n",
    "    - 几倍ATR\n",
    "- 最终特征\n",
    "    - 当前价格对应的得分 区间+-100\n",
    "- 组件特征\n",
    "    - 密集区间\n",
    "        - 价格范围\n",
    "        - 密集程度\n",
    "    - 稀疏区间\n",
    "        - 价格范围\n",
    "        - 稀疏程度\n",
    "    - 当前价格上下密集度对比\n",
    "- 不同周期\n",
    "    - Fixed number\n",
    "    - Combined w/ trend\n",
    "    "
   ]
  }
 ],
 "metadata": {
  "interpreter": {
   "hash": "b09ccace7a263505cbe8d3abcd75bd5dbc38ab4b50bda5dfb585d8cccb8cf538"
  },
  "kernelspec": {
   "display_name": "Python 3.7.6 64-bit ('3.7.6')",
   "name": "python3"
  },
  "language_info": {
   "name": "python",
   "version": ""
  },
  "orig_nbformat": 4
 },
 "nbformat": 4,
 "nbformat_minor": 2
}