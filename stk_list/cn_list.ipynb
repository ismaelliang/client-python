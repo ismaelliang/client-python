{
 "cells": [
  {
   "cell_type": "code",
   "execution_count": 1,
   "metadata": {},
   "outputs": [],
   "source": [
    "import json\n",
    "import os\n",
    "import polars as pl"
   ]
  },
  {
   "cell_type": "code",
   "execution_count": 20,
   "metadata": {},
   "outputs": [],
   "source": [
    "items = []\n",
    "for fname in os.listdir('data'):\n",
    "    with open(f'data/{fname}', 'r') as fr:\n",
    "        c = fr.read()\n",
    "        js = json.loads(c)['data']['list']\n",
    "        for j in js:\n",
    "            items.append({\n",
    "                'symbol': j['symbol'],\n",
    "                'name': j['name'],\n",
    "            })"
   ]
  },
  {
   "cell_type": "code",
   "execution_count": 24,
   "metadata": {},
   "outputs": [],
   "source": [
    "df = pl.DataFrame(items)\n",
    "\n",
    "df['tdx_api_mkt'] = df['symbol'].apply(lambda x: 0 if x[:2] == 'SZ' else 1)\n",
    "df['code'] = df['symbol'].apply(lambda x: x[2:])"
   ]
  },
  {
   "cell_type": "code",
   "execution_count": 25,
   "metadata": {},
   "outputs": [],
   "source": [
    "df.to_csv('cn_list.csv')"
   ]
  }
 ],
 "metadata": {
  "interpreter": {
   "hash": "b09ccace7a263505cbe8d3abcd75bd5dbc38ab4b50bda5dfb585d8cccb8cf538"
  },
  "kernelspec": {
   "display_name": "Python 3.7.6 64-bit ('3.7.6')",
   "name": "python3"
  },
  "language_info": {
   "codemirror_mode": {
    "name": "ipython",
    "version": 3
   },
   "file_extension": ".py",
   "mimetype": "text/x-python",
   "name": "python",
   "nbconvert_exporter": "python",
   "pygments_lexer": "ipython3",
   "version": "3.7.6"
  },
  "orig_nbformat": 4
 },
 "nbformat": 4,
 "nbformat_minor": 2
}